{
 "cells": [
  {
   "cell_type": "markdown",
   "metadata": {},
   "source": [
    "The KNN algorithm is very simple to implement, as it does not need to be trained. The training phase merely stores the training data. For each test point, we calculate the distance of that data point to every existing data point and find the $K$ closest ones. What we return is the the most common amongst the top k classification nearest to the test point. Here's the pseudocode for _K_ Nearest Neighbors:\n",
    "\n",
    "```\n",
    "kNN:\n",
    "\n",
    "    Learn:\n",
    "        Store training set T to X_train: X_train <-- T\n",
    "\n",
    "\n",
    "    Predict:\n",
    "        for every point xp in X_predict:\n",
    "            for every point x in X_train:\n",
    "                calculate the distance d in D between x and xp\n",
    "            sort D in increasing order\n",
    "            take the \"k\" items in X_train with the smallest distances to x\n",
    "            return the majority class among these k items\n",
    "```\n",
    "\n",
    "Note that for large data sets, the algorithm can take very long to classify because it has to calculate the distance between the test point and evey other point in the data!\n"
   ]
  },
  {
   "cell_type": "markdown",
   "metadata": {},
   "source": []
  },
  {
   "cell_type": "markdown",
   "metadata": {},
   "source": [
    "# Distance Metrics - Note"
   ]
  },
  {
   "cell_type": "markdown",
   "metadata": {},
   "source": [
    "As explained above, KNN assigns a class to the test point based on the majority class of  KK  nearest neighbours. In general, euclidean distance is used to find nearest neighbours, but other distance metrics can also be used.\n",
    "\n",
    "As the dimensionality of the feature space increases, the euclidean distance often becomes problematic due to the curse of dimensionality (discussed later).\n",
    "\n",
    "In such cases, alternative vector-based similarity measures (dot product, cosine similarity, etc) are used to find the nearest neighbours. This transforms the original metric space into one more amicable to point-to-point measurements.\n",
    "\n",
    "Another distance measure that you might consider is Mahalanobis distance. Here's the wikipedia page on Mahalanobis distance. https://en.wikipedia.org/wiki/Mahalanobis_distance Mahalanobis distance attempts to weight features according to their probabilities. On some data sets that may be important.\n",
    "\n",
    "In general, it's probably a good idea to normalize the data at a minimum. Here's a link to the scikit learn scaling package. http://scikit-learn.org/stable/modules/generated/sklearn.preprocessing.StandardScaler.html . You have to be a little circumspect about employing any technique where the answers change with scaling."
   ]
  },
  {
   "cell_type": "code",
   "execution_count": 33,
   "metadata": {},
   "outputs": [],
   "source": [
    "import numpy as np\n",
    "import pandas as pd\n",
    "from scipy.spatial.distance import euclidean\n",
    "import seaborn as sns"
   ]
  },
  {
   "cell_type": "code",
   "execution_count": null,
   "metadata": {},
   "outputs": [],
   "source": [
    "def distance(t1, t2, c=2, verbose=True):\n",
    "    dist = []\n",
    "    for i in range(len(t1)):\n",
    "            dist.append(np.power(abs(t2[i] - t1[i]), c))\n",
    "    return np.power(sum(dist), 1/c)"
   ]
  },
  {
   "cell_type": "code",
   "execution_count": null,
   "metadata": {},
   "outputs": [],
   "source": [
    "df = pd.read_csv('https://gist.githubusercontent.com/onelharrison/443fe58ec1e15b18b19f305441cf7173/raw/a97be8160b63c6607b4f4498508a3851dcd110c2/movies_recommendation_data.csv')"
   ]
  },
  {
   "cell_type": "code",
   "execution_count": 183,
   "metadata": {},
   "outputs": [
    {
     "name": "stdout",
     "output_type": "stream",
     "text": [
      "The Nearest Neighbor/s of The Imitation Game is/are:\n",
      "####################################\n",
      "Black Panther\n",
      "Queen of Katwe\n",
      "The Nearest Neighbor/s of Ex Machina is/are:\n",
      "####################################\n",
      "A Beautiful Mind\n",
      "Good Will Hunting\n",
      "The Nearest Neighbor/s of A Beautiful Mind is/are:\n",
      "####################################\n",
      "A Beautiful Mind\n",
      "A Beautiful Mind\n",
      "The Nearest Neighbor/s of Good Will Hunting is/are:\n",
      "####################################\n",
      "A Beautiful Mind\n",
      "Good Will Hunting\n",
      "The Nearest Neighbor/s of Forrest Gump is/are:\n",
      "####################################\n",
      "A Beautiful Mind\n",
      "Gifted\n",
      "The Nearest Neighbor/s of 21 is/are:\n",
      "####################################\n",
      "Good Will Hunting\n",
      "Good Will Hunting\n",
      "The Nearest Neighbor/s of Gifted is/are:\n",
      "####################################\n",
      "The Imitation Game\n",
      "Ex Machina\n",
      "The Nearest Neighbor/s of Travelling Salesman is/are:\n",
      "####################################\n",
      "Ex Machina\n",
      "A Beautiful Mind\n",
      "The Nearest Neighbor/s of Avatar is/are:\n",
      "####################################\n",
      "Ex Machina\n",
      "Good Will Hunting\n",
      "The Nearest Neighbor/s of The Karate Kid is/are:\n",
      "####################################\n",
      "Good Will Hunting\n",
      "Good Will Hunting\n",
      "The Nearest Neighbor/s of A Brilliant Young Mind is/are:\n",
      "####################################\n",
      "Ex Machina\n",
      "Ex Machina\n",
      "The Nearest Neighbor/s of A Time To Kill is/are:\n",
      "####################################\n",
      "Good Will Hunting\n",
      "Gifted\n",
      "The Nearest Neighbor/s of Interstellar is/are:\n",
      "####################################\n",
      "A Beautiful Mind\n",
      "Gifted\n",
      "The Nearest Neighbor/s of The Wolf of Wall Street is/are:\n",
      "####################################\n",
      "A Beautiful Mind\n",
      "Good Will Hunting\n",
      "The Nearest Neighbor/s of Black Panther is/are:\n",
      "####################################\n",
      "Ex Machina\n",
      "Ex Machina\n",
      "The Nearest Neighbor/s of Inception is/are:\n",
      "####################################\n",
      "Good Will Hunting\n",
      "Forrest Gump\n",
      "The Nearest Neighbor/s of The Wind Rises is/are:\n",
      "####################################\n",
      "Ex Machina\n",
      "Ex Machina\n",
      "The Nearest Neighbor/s of Spirited Away is/are:\n",
      "####################################\n",
      "Ex Machina\n",
      "Good Will Hunting\n",
      "The Nearest Neighbor/s of Finding Forrester is/are:\n",
      "####################################\n",
      "Ex Machina\n",
      "Ex Machina\n",
      "The Nearest Neighbor/s of The Fountain is/are:\n",
      "####################################\n",
      "The Imitation Game\n",
      "Ex Machina\n",
      "The Nearest Neighbor/s of The DaVinci Code is/are:\n",
      "####################################\n",
      "Ex Machina\n",
      "A Beautiful Mind\n",
      "The Nearest Neighbor/s of Stand and Deliver is/are:\n",
      "####################################\n",
      "The Imitation Game\n",
      "The Imitation Game\n",
      "The Nearest Neighbor/s of The Terminator is/are:\n",
      "####################################\n",
      "The Imitation Game\n",
      "The Imitation Game\n",
      "The Nearest Neighbor/s of 21 Jump Street is/are:\n",
      "####################################\n",
      "A Beautiful Mind\n",
      "21\n",
      "The Nearest Neighbor/s of The Avengers is/are:\n",
      "####################################\n",
      "The Imitation Game\n",
      "The Imitation Game\n",
      "The Nearest Neighbor/s of Thor: Ragnarok is/are:\n",
      "####################################\n",
      "The Imitation Game\n",
      "The Imitation Game\n",
      "The Nearest Neighbor/s of Spirit: Stallion of the Cimarron is/are:\n",
      "####################################\n",
      "Ex Machina\n",
      "Forrest Gump\n",
      "The Nearest Neighbor/s of Hacksaw Ridge is/are:\n",
      "####################################\n",
      "Forrest Gump\n",
      "21\n",
      "The Nearest Neighbor/s of 12 Years a Slave is/are:\n",
      "####################################\n",
      "21\n",
      "21\n",
      "The Nearest Neighbor/s of Queen of Katwe is/are:\n",
      "####################################\n",
      "Travelling Salesman\n",
      "Travelling Salesman\n"
     ]
    }
   ],
   "source": [
    "dist_arr = np.zeros((m,m))\n",
    "df_arr = df.iloc[:, 2:]\n",
    "df_arr = df_arr.to_numpy()\n",
    "k = 2\n",
    "\n",
    "for row in range(df_arr.shape[0]-1):\n",
    "    for col in range(df_arr.shape[0]):\n",
    "        dist = euclidean(df_arr[row, :], df_arr[col,:])\n",
    "        dist_arr[row,col] = dist\n",
    "\n",
    "ind_arr = dist_arr.argsort(axis=0)\n",
    "\n",
    "for i in range(df_arr.shape[0]):\n",
    "    print('The Nearest Neighbor/s of %s is/are:' % df['Movie Name'][i])\n",
    "    print('####################################')\n",
    "    for j in range(1,k+1): # start at 1 since closes distance is always to it self\n",
    "        index = np.sort(ind_arr[i,:])[j]\n",
    "        \n",
    "        print(df['Movie Name'][index])"
   ]
  },
  {
   "cell_type": "code",
   "execution_count": 184,
   "metadata": {},
   "outputs": [
    {
     "data": {
      "text/plain": [
       "array([[ 0, 29, 29, 29, 29, 29, 29, 29, 29, 29, 29, 29, 29, 29, 14, 29,\n",
       "        29, 29, 29, 29, 29, 29, 29, 29, 29, 29, 29, 29, 29, 29],\n",
       "       [29,  1,  2,  3,  4,  5,  6,  7,  8, 10, 10, 11, 12, 13, 29, 15,\n",
       "        16, 17, 21, 19, 20, 21, 22, 23, 24, 25, 26, 27, 28, 16],\n",
       "       [ 2,  6, 16, 12, 12,  9, 21, 20, 22,  9,  9, 21,  4, 23, 19, 17,\n",
       "         2, 15, 18, 14, 26, 18, 24, 25, 22,  8, 19, 28, 27,  2],\n",
       "       [16, 21, 27,  4,  3, 10, 18,  9, 24, 21, 21, 18,  3, 25, 26, 24,\n",
       "         6, 24, 10, 26,  7, 10,  8, 13,  8, 22, 14,  2,  2, 21],\n",
       "       [28, 18, 28,  6, 15, 21, 10, 10, 14, 18, 18, 10,  6,  2,  8, 22,\n",
       "         0, 22,  9,  8, 19,  9, 17, 26, 17, 24,  8, 16, 16, 18],\n",
       "       [27,  9,  3, 18, 17, 18,  9, 21, 19,  6,  6,  9, 17, 24, 22,  8,\n",
       "        28,  8,  6, 22, 14,  6, 14, 19, 14, 14, 22,  3,  0,  6],\n",
       "       [ 3, 10,  0, 21,  2, 11,  3, 18, 17, 19, 19,  6, 15, 22, 24,  4,\n",
       "        27, 12, 19, 24,  1, 19, 19, 14, 15, 19, 24,  0,  3, 10],\n",
       "       [ 6,  3, 12,  2,  6,  6, 12,  1, 26, 26, 26,  0,  2,  8, 21, 12,\n",
       "        18,  4,  3, 21,  9,  3, 15,  8, 19, 17,  9, 12,  6,  9],\n",
       "       [12, 12,  6, 24, 24, 26,  1, 26, 15, 14, 14,  5, 24, 16, 18,  3,\n",
       "        21,  3, 14, 18, 10, 14, 26, 22, 26, 23, 10,  6, 12,  0],\n",
       "       [11, 16,  4, 17, 22, 23, 14,  5, 25,  3,  3,  3, 22, 17,  6, 25,\n",
       "         3, 14, 26,  9, 21, 26, 25, 24, 25, 26, 21,  4,  4, 28],\n",
       "       [18,  8, 18, 22,  8, 19, 16,  6,  6,  1,  1, 14,  8, 15, 10, 14,\n",
       "         9, 25,  1, 10, 18,  1,  3,  9,  3, 15, 18, 18, 21, 27],\n",
       "       [21, 22, 21,  8, 16, 14, 19, 19,  3, 16, 16, 19, 16, 14,  9, 19,\n",
       "        10, 19, 16,  6, 11, 16,  6, 10, 12, 13,  6, 21, 18,  3],\n",
       "       [ 9, 14,  9,  9,  1, 28,  8, 14, 18,  8,  8, 23, 21, 19, 25,  2,\n",
       "        12,  6,  8, 25,  8,  8, 12, 18,  6,  6, 25,  9,  9, 14],\n",
       "       [10, 24, 10, 10, 18,  7, 22, 11, 21, 22, 22,  1, 18, 27, 17,  6,\n",
       "         4,  2, 22, 17, 22, 22, 18, 21,  4,  3, 23, 10, 10, 19],\n",
       "       [ 4, 19, 24, 15, 21,  1, 26, 16, 12, 24, 24, 26,  1, 28,  3, 26,\n",
       "         8, 26, 24,  3,  6, 24, 21, 11, 21, 21, 17, 24, 24,  1],\n",
       "       [22,  4, 22, 16, 27, 27, 24, 23, 10, 12, 12, 16, 10,  3, 15, 16,\n",
       "         1, 16, 12, 23, 24, 12, 10,  6, 18, 18, 20, 22, 22, 26],\n",
       "       [ 8,  2,  8,  1, 28, 16,  2,  8,  9,  2,  2,  8,  9,  0, 23,  1,\n",
       "        22, 21,  2,  1, 23,  2,  9,  5, 10, 12,  1,  8,  8,  8],\n",
       "       [24, 26, 17, 14, 10,  8,  4, 22,  4, 11, 11, 22, 27, 12,  1, 18,\n",
       "        24, 18, 11, 16, 25, 11,  4, 17,  9, 10,  3, 17,  1, 22],\n",
       "       [ 1, 17,  1, 19,  9,  3, 17,  3, 16,  5,  5, 12, 28, 26, 16, 21,\n",
       "        14,  1,  5, 15,  0,  5, 16,  3,  2,  9, 16,  1, 17, 12],\n",
       "       [14, 25, 15, 27,  0, 22, 11, 24,  1, 25, 25, 24,  0,  6, 12, 13,\n",
       "        19, 10,  4, 20,  5,  4,  2,  1, 16,  4, 15, 15, 14, 24],\n",
       "       [17, 11, 14, 28, 25, 24, 25, 25,  2,  4,  4,  2, 14,  4,  2, 27,\n",
       "        26,  9, 25, 12, 16, 25,  1, 16,  1, 16,  5, 14, 15,  4],\n",
       "       [19,  0, 19,  0, 14,  2,  0,  2, 23,  0,  0, 20, 25, 11, 20, 28,\n",
       "        17, 13,  0,  2,  3,  0, 23, 20, 23,  1, 11, 19, 19, 11],\n",
       "       [15, 28, 13, 25, 19, 20, 28,  0,  0,  7,  7,  4, 19, 18,  4,  9,\n",
       "        15, 27, 28, 11, 17, 28,  0, 15, 28,  2,  2,  5,  5, 25],\n",
       "       [26, 15, 25, 26, 26, 25, 27, 28, 28, 28, 28, 25, 26, 21, 11, 10,\n",
       "        25, 28, 17,  5,  2, 17, 28, 12, 27,  0, 12, 13, 26,  5],\n",
       "       [25, 20, 26, 11, 11, 12, 15, 27, 13, 17, 17, 17, 11,  9,  0,  0,\n",
       "        13,  0, 27,  4, 15, 27, 13,  2, 13, 28,  7, 25, 13, 17],\n",
       "       [13,  7, 11, 13, 13,  0,  5, 12, 27, 27, 27, 28, 13, 10,  5, 23,\n",
       "        11, 23,  7,  0, 12,  7, 27,  4,  0, 27,  0, 26, 25, 13],\n",
       "       [20, 27,  5, 23, 23, 13, 23, 17, 11, 23, 23, 13, 23,  1, 28, 11,\n",
       "         5, 11, 23, 28, 28, 23, 11,  0, 11, 11,  4, 11, 11, 15],\n",
       "       [ 5,  5, 23,  5,  5,  4,  7,  4, 20, 20, 20, 27,  5,  5, 13, 20,\n",
       "        23, 20, 15, 13, 13, 15, 20,  7, 20, 20, 28, 23, 23, 23],\n",
       "       [23, 23, 20, 20, 20, 17, 20, 13,  5, 15, 15, 15, 20, 20, 27,  5,\n",
       "        20,  5, 20, 27, 27, 20,  5, 28,  5,  5, 13, 20, 20,  7],\n",
       "       [ 7, 13,  7,  7,  7, 15, 13, 15,  7, 13, 13,  7,  7,  7,  7,  7,\n",
       "         7,  7, 13,  7,  4, 13,  7, 27,  7,  7, 27,  7,  7, 20]])"
      ]
     },
     "execution_count": 184,
     "metadata": {},
     "output_type": "execute_result"
    }
   ],
   "source": [
    "ind_arr"
   ]
  },
  {
   "cell_type": "code",
   "execution_count": 143,
   "metadata": {},
   "outputs": [
    {
     "data": {
      "text/plain": [
       "<matplotlib.axes._subplots.AxesSubplot at 0x1a21661588>"
      ]
     },
     "execution_count": 143,
     "metadata": {},
     "output_type": "execute_result"
    },
    {
     "data": {
      "image/png": "[encoded data removed]",
      "text/plain": [
       "<Figure size 432x288 with 2 Axes>"
      ]
     },
     "metadata": {
      "needs_background": "light"
     },
     "output_type": "display_data"
    }
   ],
   "source": [
    "sns.heatmap(dist_arr)"
   ]
  },
  {
   "cell_type": "code",
   "execution_count": null,
   "metadata": {},
   "outputs": [],
   "source": []
  }
 ],
 "metadata": {
  "kernelspec": {
   "display_name": "Python 3",
   "language": "python",
   "name": "python3"
  },
  "language_info": {
   "codemirror_mode": {
    "name": "ipython",
    "version": 3
   },
   "file_extension": ".py",
   "mimetype": "text/x-python",
   "name": "python",
   "nbconvert_exporter": "python",
   "pygments_lexer": "ipython3",
   "version": "3.6.6"
  }
 },
 "nbformat": 4,
 "nbformat_minor": 2
}
